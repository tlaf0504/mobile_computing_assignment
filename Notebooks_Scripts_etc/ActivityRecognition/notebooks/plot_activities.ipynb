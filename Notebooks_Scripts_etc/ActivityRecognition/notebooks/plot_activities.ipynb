{
 "cells": [
  {
   "cell_type": "code",
   "execution_count": 1,
   "id": "6bb4e628",
   "metadata": {},
   "outputs": [
    {
     "name": "stdout",
     "output_type": "stream",
     "text": [
      "Using matplotlib backend: Qt5Agg\n"
     ]
    }
   ],
   "source": [
    "import os\n",
    "import glob\n",
    "import numpy as np\n",
    "import matplotlib.pyplot as plt\n",
    "%matplotlib\n",
    "\n",
    "import utils"
   ]
  },
  {
   "cell_type": "code",
   "execution_count": 2,
   "id": "c69c1ab4",
   "metadata": {},
   "outputs": [],
   "source": [
    "data_directory = os.path.join(\"..\", \"data\")\n",
    "activity_directories = [\"crunches\", \"curls\", \"push_ups\", \"triceps\"]"
   ]
  },
  {
   "cell_type": "code",
   "execution_count": 3,
   "id": "9a8dce50",
   "metadata": {},
   "outputs": [],
   "source": [
    "fig_gyro = None\n",
    "fig_accel = None\n",
    "\n",
    "for activity_directory in activity_directories:\n",
    "    path = os.path.join(data_directory, activity_directory)\n",
    "    gyro_data_files = glob.glob(os.path.join(data_directory, activity_directory, \"*_gyro_sensor_data_*.txt\"))\n",
    "    accel_data_files = glob.glob(os.path.join(data_directory, activity_directory, \"*_accel_sensor_data_*.txt\"))\n",
    "    \n",
    "    gyro_data_file = gyro_data_files[0]\n",
    "    accel_data_file = accel_data_files[0]\n",
    "    gyro_data = np.loadtxt(gyro_data_file, delimiter=\";\")\n",
    "    accel_data = np.loadtxt(accel_data_file, delimiter=\";\")\n",
    "\n",
    "    gyro_data[:,0] = gyro_data[:,0] * 1e-3 # Convert from milli-seconds to seconds\n",
    "    accel_data[:,0] = accel_data[:,0] * 1e-3 # Convert from milli-seconds to seconds\n",
    "    \n",
    "    fig_gyro = utils.plot_sensor_data(data_array=gyro_data, title=\"Gyro\", ylabels=[\"x\", \"y\", \"z\"], fig=fig_gyro, curve_label=os.path.basename(gyro_data_file)[:-4])\n",
    "    fig_accel = utils.plot_sensor_data(data_array=accel_data, title=\"Gyro\", ylabels=[\"x\", \"y\", \"z\"], fig=fig_accel, curve_label=os.path.basename(accel_data_file)[:-4])"
   ]
  },
  {
   "cell_type": "code",
   "execution_count": 4,
   "id": "dfe536d8",
   "metadata": {},
   "outputs": [
    {
     "data": {
      "text/plain": [
       "['../data/triceps/Triceps_gyro_sensor_data_1617808482182.txt',\n",
       " '../data/triceps/Triceps_gyro_sensor_data_1617808640095.txt',\n",
       " '../data/triceps/Triceps_gyro_sensor_data_1617808715367.txt']"
      ]
     },
     "execution_count": 4,
     "metadata": {},
     "output_type": "execute_result"
    }
   ],
   "source": [
    "gyro_data_files"
   ]
  },
  {
   "cell_type": "code",
   "execution_count": 5,
   "id": "a756a485",
   "metadata": {},
   "outputs": [
    {
     "data": {
      "text/plain": [
       "'../data/*_gyro_sensor_data_*.txt'"
      ]
     },
     "execution_count": 5,
     "metadata": {},
     "output_type": "execute_result"
    }
   ],
   "source": [
    "os.path.join(data_directory,\"*_gyro_sensor_data_*.txt\")"
   ]
  },
  {
   "cell_type": "code",
   "execution_count": null,
   "id": "f958e200",
   "metadata": {},
   "outputs": [],
   "source": []
  }
 ],
 "metadata": {
  "kernelspec": {
   "display_name": "Python 3",
   "language": "python",
   "name": "python3"
  },
  "language_info": {
   "codemirror_mode": {
    "name": "ipython",
    "version": 3
   },
   "file_extension": ".py",
   "mimetype": "text/x-python",
   "name": "python",
   "nbconvert_exporter": "python",
   "pygments_lexer": "ipython3",
   "version": "3.8.8"
  }
 },
 "nbformat": 4,
 "nbformat_minor": 5
}
