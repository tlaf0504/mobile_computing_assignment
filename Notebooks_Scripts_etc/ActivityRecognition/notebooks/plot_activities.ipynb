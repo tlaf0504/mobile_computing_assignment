{
 "cells": [
  {
   "cell_type": "code",
   "execution_count": 1,
   "id": "5b5d0e0a",
   "metadata": {},
   "outputs": [
    {
     "name": "stdout",
     "output_type": "stream",
     "text": [
      "Using matplotlib backend: Qt5Agg\n"
     ]
    }
   ],
   "source": [
    "import os\n",
    "import glob\n",
    "import numpy as np\n",
    "import matplotlib.pyplot as plt\n",
    "%matplotlib\n",
    "\n",
    "import utils"
   ]
  },
  {
   "cell_type": "code",
   "execution_count": 2,
   "id": "f1ae2089",
   "metadata": {},
   "outputs": [],
   "source": [
    "data_directory = os.path.join(\"..\", \"data\")\n",
    "activity_directories = [\"crunches\", \"curls\", \"push_ups\", \"triceps\"]"
   ]
  },
  {
   "cell_type": "code",
   "execution_count": 3,
   "id": "4fd8728c",
   "metadata": {},
   "outputs": [
    {
     "ename": "IndexError",
     "evalue": "list index out of range",
     "output_type": "error",
     "traceback": [
      "\u001b[0;31m---------------------------------------------------------------------------\u001b[0m",
      "\u001b[0;31mIndexError\u001b[0m                                Traceback (most recent call last)",
      "\u001b[0;32m<ipython-input-3-de50fb954086>\u001b[0m in \u001b[0;36m<module>\u001b[0;34m\u001b[0m\n\u001b[1;32m      7\u001b[0m     \u001b[0maccel_data_files\u001b[0m \u001b[0;34m=\u001b[0m \u001b[0mglob\u001b[0m\u001b[0;34m.\u001b[0m\u001b[0mglob\u001b[0m\u001b[0;34m(\u001b[0m\u001b[0mos\u001b[0m\u001b[0;34m.\u001b[0m\u001b[0mpath\u001b[0m\u001b[0;34m.\u001b[0m\u001b[0mjoin\u001b[0m\u001b[0;34m(\u001b[0m\u001b[0mdata_directory\u001b[0m\u001b[0;34m,\u001b[0m \u001b[0mactivity_directory\u001b[0m\u001b[0;34m,\u001b[0m \u001b[0;34m\"*_accel_sensor_data_*.txt\"\u001b[0m\u001b[0;34m)\u001b[0m\u001b[0;34m)\u001b[0m\u001b[0;34m\u001b[0m\u001b[0;34m\u001b[0m\u001b[0m\n\u001b[1;32m      8\u001b[0m \u001b[0;34m\u001b[0m\u001b[0m\n\u001b[0;32m----> 9\u001b[0;31m     \u001b[0mgyro_data_file\u001b[0m \u001b[0;34m=\u001b[0m \u001b[0mgyro_data_files\u001b[0m\u001b[0;34m[\u001b[0m\u001b[0;36m0\u001b[0m\u001b[0;34m]\u001b[0m\u001b[0;34m\u001b[0m\u001b[0;34m\u001b[0m\u001b[0m\n\u001b[0m\u001b[1;32m     10\u001b[0m     \u001b[0maccel_data_file\u001b[0m \u001b[0;34m=\u001b[0m \u001b[0maccel_data_files\u001b[0m\u001b[0;34m[\u001b[0m\u001b[0;36m0\u001b[0m\u001b[0;34m]\u001b[0m\u001b[0;34m\u001b[0m\u001b[0;34m\u001b[0m\u001b[0m\n\u001b[1;32m     11\u001b[0m     \u001b[0mgyro_data\u001b[0m \u001b[0;34m=\u001b[0m \u001b[0mnp\u001b[0m\u001b[0;34m.\u001b[0m\u001b[0mloadtxt\u001b[0m\u001b[0;34m(\u001b[0m\u001b[0mgyro_data_file\u001b[0m\u001b[0;34m,\u001b[0m \u001b[0mdelimiter\u001b[0m\u001b[0;34m=\u001b[0m\u001b[0;34m\";\"\u001b[0m\u001b[0;34m)\u001b[0m\u001b[0;34m\u001b[0m\u001b[0;34m\u001b[0m\u001b[0m\n",
      "\u001b[0;31mIndexError\u001b[0m: list index out of range"
     ]
    }
   ],
   "source": [
    "fig_gyro = None\n",
    "fig_accel = None\n",
    "\n",
    "for activity_directory in activity_directories:\n",
    "    path = os.path.join(data_directory, activity_directory)\n",
    "    gyro_data_files = glob.glob(os.path.join(data_directory, activity_directory, \"*_gyro_sensor_data_*.txt\"))\n",
    "    accel_data_files = glob.glob(os.path.join(data_directory, activity_directory, \"*_accel_sensor_data_*.txt\"))\n",
    "    \n",
    "    gyro_data_file = gyro_data_files[0]\n",
    "    accel_data_file = accel_data_files[0]\n",
    "    gyro_data = np.loadtxt(gyro_data_file, delimiter=\";\")\n",
    "    accel_data = np.loadtxt(accel_data_file, delimiter=\";\")\n",
    "\n",
    "    gyro_data[:,0] = gyro_data[:,0] * 1e-3 # Convert from milli-seconds to seconds\n",
    "    accel_data[:,0] = accel_data[:,0] * 1e-3 # Convert from milli-seconds to seconds\n",
    "    \n",
    "    fig_gyro = utils.plot_sensor_data(data_array=gyro_data, title=\"Gyro\", ylabels=[\"x\", \"y\", \"z\"], fig=fig_gyro, curve_label=os.path.basename(gyro_data_file)[:-4])\n",
    "    fig_accel = utils.plot_sensor_data(data_array=accel_data, title=\"Gyro\", ylabels=[\"x\", \"y\", \"z\"], fig=fig_accel, curve_label=os.path.basename(accel_data_file)[:-4])"
   ]
  },
  {
   "cell_type": "code",
   "execution_count": null,
   "id": "ae146a29",
   "metadata": {},
   "outputs": [],
   "source": [
    "gyro_data_files"
   ]
  },
  {
   "cell_type": "code",
   "execution_count": null,
   "id": "d4f58f21",
   "metadata": {},
   "outputs": [],
   "source": [
    "os.path.join(data_directory,\"*_gyro_sensor_data_*.txt\")"
   ]
  },
  {
   "cell_type": "code",
   "execution_count": null,
   "id": "0fc99836",
   "metadata": {},
   "outputs": [],
   "source": []
  }
 ],
 "metadata": {
  "kernelspec": {
   "display_name": "Python 3",
   "language": "python",
   "name": "python3"
  },
  "language_info": {
   "codemirror_mode": {
    "name": "ipython",
    "version": 3
   },
   "file_extension": ".py",
   "mimetype": "text/x-python",
   "name": "python",
   "nbconvert_exporter": "python",
   "pygments_lexer": "ipython3",
   "version": "3.8.8"
  }
 },
 "nbformat": 4,
 "nbformat_minor": 5
}
