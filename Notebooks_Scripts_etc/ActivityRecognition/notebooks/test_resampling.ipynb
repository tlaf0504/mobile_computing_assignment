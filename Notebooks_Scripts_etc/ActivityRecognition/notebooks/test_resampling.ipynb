{
 "cells": [
  {
   "cell_type": "code",
   "execution_count": 1,
   "id": "0f05f660-f3b7-4191-a192-bfbe1fe4eb60",
   "metadata": {},
   "outputs": [
    {
     "name": "stdout",
     "output_type": "stream",
     "text": [
      "Using matplotlib backend: Qt5Agg\n"
     ]
    }
   ],
   "source": [
    "import os\n",
    "import numpy as np\n",
    "import utils\n",
    "%matplotlib\n",
    "import matplotlib.pyplot as plt"
   ]
  },
  {
   "cell_type": "code",
   "execution_count": 2,
   "id": "a09a903d-7413-484a-ba13-9bf032a4d625",
   "metadata": {},
   "outputs": [],
   "source": [
    "data_path = os.path.join(\"..\", \"..\", \"..\", \"AndroidApp\",\"app\",\"src\",\"main\",\"assets\",\"raw_sensor_data\", \"curls\")\n",
    "gyro_file = \"Curls_gyro_sensor_data_1624264514006_original_clipped.csv\"\n",
    "accel_file = \"Curls_accel_sensor_data_1624264514006_original_clipped.csv\""
   ]
  },
  {
   "cell_type": "code",
   "execution_count": 3,
   "id": "f1b53d50-409b-4eb3-8670-198af9de2ad2",
   "metadata": {},
   "outputs": [],
   "source": [
    "gyro_data = np.loadtxt(os.path.join(data_path, gyro_file), delimiter=\";\")\n",
    "accel_data = np.loadtxt(os.path.join(data_path, accel_file), delimiter=\";\")"
   ]
  },
  {
   "cell_type": "code",
   "execution_count": 4,
   "id": "a617db96-a4a9-43dc-a755-018b1abc296c",
   "metadata": {},
   "outputs": [],
   "source": [
    "t_gyro = gyro_data[:,0] # In nanoseconds\n",
    "t_accel = accel_data[:,0]"
   ]
  },
  {
   "cell_type": "code",
   "execution_count": 5,
   "id": "d172786e-3b68-4571-a2d5-0d413e62ca8a",
   "metadata": {},
   "outputs": [
    {
     "data": {
      "text/plain": [
       "1094210574042002.0"
      ]
     },
     "execution_count": 5,
     "metadata": {},
     "output_type": "execute_result"
    }
   ],
   "source": [
    "T_clip = -1\n",
    "if (t_gyro[-1] > t_accel[-1]):\n",
    "    T_clip = t_accel[-1]\n",
    "else:\n",
    "    T_clip = t_gyro[-1]\n",
    "T_clip"
   ]
  },
  {
   "cell_type": "code",
   "execution_count": 6,
   "id": "6da9706a-bfc9-43fb-a0d2-55eb1e6953f1",
   "metadata": {},
   "outputs": [],
   "source": [
    "T_clip_interval = 4 * 1e9\n",
    "idx_gyro_clip = np.where(t_gyro < (T_clip - T_clip_interval))[0][-1]\n",
    "idx_accel_clip = np.where(t_accel < (T_clip - T_clip_interval))[0][-1]"
   ]
  },
  {
   "cell_type": "code",
   "execution_count": 7,
   "id": "85a9e8af-3252-463b-8e3a-c3b2194b4462",
   "metadata": {},
   "outputs": [],
   "source": [
    "t_gyro_new = t_gyro[idx_gyro_clip:]\n",
    "t_accel_new = t_accel[idx_accel_clip:]"
   ]
  },
  {
   "cell_type": "code",
   "execution_count": 8,
   "id": "f116ecc3-d0f1-4156-9c89-65328696c407",
   "metadata": {},
   "outputs": [],
   "source": [
    "gyro_data_new = gyro_data[idx_gyro_clip:,:]\n",
    "accel_data_new = accel_data[idx_accel_clip:,:] "
   ]
  },
  {
   "cell_type": "code",
   "execution_count": 9,
   "id": "12770a0f-4d8e-4277-b045-ec68273303fe",
   "metadata": {},
   "outputs": [],
   "source": [
    "if gyro_data_new[0,0] > accel_data_new[0,0]:\n",
    "    t_ref = gyro_data_new[0,0]\n",
    "else:\n",
    "    t_ref = accel_data_new[0,0]"
   ]
  },
  {
   "cell_type": "code",
   "execution_count": 10,
   "id": "742f35c2-53fe-4763-ba16-1742066c0de2",
   "metadata": {},
   "outputs": [
    {
     "data": {
      "text/plain": [
       "1094206564211377.0"
      ]
     },
     "execution_count": 10,
     "metadata": {},
     "output_type": "execute_result"
    }
   ],
   "source": [
    "t_ref"
   ]
  },
  {
   "cell_type": "code",
   "execution_count": 11,
   "id": "0bccc5f1-150c-4ec7-84fa-802b409105db",
   "metadata": {},
   "outputs": [],
   "source": [
    "t_gyro_resampled, gyro_data_resampled = utils.resample_3d_timeseries(gyro_data_new[:,1:], gyro_data_new[:,0], 50 , N_samples = 200, t_ref = t_ref)\n",
    "t_accel_resampled, accel_data_resampled = utils.resample_3d_timeseries(accel_data_new[:,1:], accel_data_new[:,0], 50 , N_samples = 200, t_ref = t_ref)"
   ]
  },
  {
   "cell_type": "code",
   "execution_count": 12,
   "id": "6e7e521c-72be-41c4-8f25-b3baed9e6a35",
   "metadata": {},
   "outputs": [
    {
     "data": {
      "text/plain": [
       "array([1094206.56421138, 1094206.58421138, 1094206.60421138,\n",
       "       1094206.62421138, 1094206.64421138, 1094206.66421138,\n",
       "       1094206.68421138, 1094206.70421138, 1094206.72421138,\n",
       "       1094206.74421138])"
      ]
     },
     "execution_count": 12,
     "metadata": {},
     "output_type": "execute_result"
    }
   ],
   "source": [
    "t_gyro_resampled[:10] * 1e-9"
   ]
  },
  {
   "cell_type": "code",
   "execution_count": 13,
   "id": "15baa512-c873-4355-bffa-4bd45926e52e",
   "metadata": {},
   "outputs": [
    {
     "data": {
      "text/plain": [
       "array([1094208.87770101, 1094209.07049122, 1094209.26328226,\n",
       "       1094209.45607284, 1094209.64886388, 1094209.84165419,\n",
       "       1094210.03444497, 1094210.22723648, 1094210.420027  ])"
      ]
     },
     "execution_count": 13,
     "metadata": {},
     "output_type": "execute_result"
    }
   ],
   "source": [
    "gyro_data[-10:-1,0] * 1e-9"
   ]
  },
  {
   "cell_type": "code",
   "execution_count": 14,
   "id": "c294807f-00a5-4910-bde8-19353f1f6400",
   "metadata": {},
   "outputs": [
    {
     "data": {
      "text/plain": [
       "<matplotlib.legend.Legend at 0x7f4ce80468b0>"
      ]
     },
     "execution_count": 14,
     "metadata": {},
     "output_type": "execute_result"
    }
   ],
   "source": [
    "plt.figure(figsize=(16,9))\n",
    "plt.subplot(311)\n",
    "plt.plot(gyro_data[:,0] * 1e-9, gyro_data[:,1], label=\"Original\")\n",
    "plt.plot(gyro_data_new[:,0] * 1e-9, gyro_data_new[:,1], label=\"Original, clipped\")\n",
    "plt.plot(t_gyro_resampled * 1e-9 , gyro_data_resampled[:,0], label=\"Resampled, clipped\", linestyle=\"--\")\n",
    "plt.grid(which=\"major\")\n",
    "plt.grid(which=\"minor\", linestyle=\"--\")\n",
    "plt.minorticks_on()\n",
    "plt.legend()\n",
    "plt.title(\"Gyroscope\")\n",
    "\n",
    "plt.subplot(312)\n",
    "plt.plot(gyro_data[:,0] * 1e-9, gyro_data[:,2], label=\"Original\")\n",
    "plt.plot(gyro_data_new[:,0] * 1e-9, gyro_data_new[:,2], label=\"Original, clipped\")\n",
    "plt.plot(t_gyro_resampled * 1e-9 , gyro_data_resampled[:,1], label=\"Resampled, clipped\", linestyle=\"--\")\n",
    "plt.grid(which=\"major\")\n",
    "plt.grid(which=\"minor\", linestyle=\"--\")\n",
    "plt.minorticks_on()\n",
    "plt.legend()\n",
    "\n",
    "plt.subplot(313)\n",
    "plt.plot(gyro_data[:,0] * 1e-9, gyro_data[:,3], label=\"Original\")\n",
    "plt.plot(gyro_data_new[:,0] * 1e-9, gyro_data_new[:,3], label=\"Original, clipped\")\n",
    "plt.plot(t_gyro_resampled * 1e-9 , gyro_data_resampled[:,2], label=\"Resampled, clipped\", linestyle=\"--\")\n",
    "plt.grid(which=\"major\")\n",
    "plt.grid(which=\"minor\", linestyle=\"--\")\n",
    "plt.minorticks_on()\n",
    "plt.legend()\n",
    "\n",
    "plt.figure(figsize=(16,9))\n",
    "plt.subplot(311)\n",
    "plt.plot(accel_data[:,0] * 1e-9, accel_data[:,1], label=\"Original\")\n",
    "plt.plot(accel_data_new[:,0] * 1e-9, accel_data_new[:,1], label=\"Original, clipped\")\n",
    "plt.plot(t_accel_resampled * 1e-9, accel_data_resampled[:,0], label=\"Resampled, clipped\", linestyle=\"--\")\n",
    "plt.grid(which=\"major\")\n",
    "plt.grid(which=\"minor\", linestyle=\"--\")\n",
    "plt.minorticks_on()\n",
    "plt.legend()\n",
    "plt.title(\"Accelerometer\")\n",
    "\n",
    "plt.subplot(312)\n",
    "plt.plot(accel_data[:,0] * 1e-9, accel_data[:,2], label=\"Original\")\n",
    "plt.plot(accel_data_new[:,0] * 1e-9, accel_data_new[:,2], label=\"Original, clipped\")\n",
    "plt.plot(t_accel_resampled * 1e-9, accel_data_resampled[:,1], label=\"Resampled, clipped\", linestyle=\"--\")\n",
    "plt.grid(which=\"major\")\n",
    "plt.grid(which=\"minor\", linestyle=\"--\")\n",
    "plt.minorticks_on()\n",
    "plt.legend()\n",
    "\n",
    "plt.subplot(313)\n",
    "plt.plot(accel_data[:,0] * 1e-9, accel_data[:,3], label=\"Original\")\n",
    "plt.plot(accel_data_new[:,0] * 1e-9, accel_data_new[:,3], label=\"Original, clipped\")\n",
    "plt.plot(t_accel_resampled * 1e-9, accel_data_resampled[:,2], label=\"Resampled, clipped\", linestyle=\"--\")\n",
    "plt.grid(which=\"major\")\n",
    "plt.grid(which=\"minor\", linestyle=\"--\")\n",
    "plt.minorticks_on()\n",
    "plt.legend()"
   ]
  },
  {
   "cell_type": "code",
   "execution_count": 16,
   "id": "58b05dd6-bdae-41bd-860d-63f2307007cb",
   "metadata": {},
   "outputs": [
    {
     "data": {
      "text/plain": [
       "array([[-2.57616815, -1.48292496, -8.52930605],\n",
       "       [-2.32748294, -1.88435773, -9.42330364],\n",
       "       [-2.44703916, -1.93311988, -9.70853433],\n",
       "       [-1.75586815, -2.19496324, -8.90312261],\n",
       "       [-1.54462692, -2.61707745, -8.41772495],\n",
       "       [-1.64473777, -3.66885518, -8.37520999],\n",
       "       [-2.49571976, -4.13225624, -9.26673012],\n",
       "       [-1.90330457, -4.0265048 , -9.19860745],\n",
       "       [-1.19835452, -4.08234491, -8.29696874],\n",
       "       [-1.23641986, -4.67872823, -7.38386978],\n",
       "       [-1.89990191, -5.32505554, -7.43112078],\n",
       "       [-1.67055465, -5.72576678, -6.91069352],\n",
       "       [-1.19307216, -5.96738272, -6.2286356 ],\n",
       "       [-1.37077078, -6.30035831, -6.24241333],\n",
       "       [-1.45784397, -6.16628698, -6.6412961 ],\n",
       "       [-1.05219495, -5.85813744, -6.36340105],\n",
       "       [-0.77033945, -5.86491763, -5.57366314],\n",
       "       [-1.61205122, -6.0090991 , -5.63041346],\n",
       "       [-1.56706193, -5.96033722, -6.23214008]])"
      ]
     },
     "execution_count": 16,
     "metadata": {},
     "output_type": "execute_result"
    }
   ],
   "source": [
    "accel_data_resampled[:19, :]"
   ]
  },
  {
   "cell_type": "code",
   "execution_count": null,
   "id": "f45f7676-6cf4-48ff-b661-bf2b4ef0c90e",
   "metadata": {},
   "outputs": [],
   "source": []
  }
 ],
 "metadata": {
  "kernelspec": {
   "display_name": "Python 3",
   "language": "python",
   "name": "python3"
  },
  "language_info": {
   "codemirror_mode": {
    "name": "ipython",
    "version": 3
   },
   "file_extension": ".py",
   "mimetype": "text/x-python",
   "name": "python",
   "nbconvert_exporter": "python",
   "pygments_lexer": "ipython3",
   "version": "3.8.8"
  }
 },
 "nbformat": 4,
 "nbformat_minor": 5
}
