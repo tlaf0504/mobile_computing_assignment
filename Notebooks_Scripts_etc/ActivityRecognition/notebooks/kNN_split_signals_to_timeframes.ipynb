{
 "cells": [
  {
   "cell_type": "code",
   "execution_count": 1,
   "id": "668af458-e5a0-436f-b92b-e2bf06b3a7b5",
   "metadata": {},
   "outputs": [],
   "source": [
    "import os\n",
    "import glob # Adds wildcard-support for file exploration\n",
    "import numpy as np\n",
    "import matplotlib.pyplot as plt\n",
    "\n",
    "# Load functions from file \"utils.py\"\n",
    "import utils"
   ]
  },
  {
   "cell_type": "code",
   "execution_count": 2,
   "id": "162c3cc4-4da4-4bd1-9f84-f0bce523b2b2",
   "metadata": {},
   "outputs": [],
   "source": [
    "data_directory = os.path.join(\"..\", \"data\", \"kNN\")\n",
    "activities = [\n",
    "    {\"name\": \"Biceps Curls\",\n",
    "     \"subdirectory\": \"biceps_curls\",\n",
    "     \"label\": 1},\n",
    "    {\"name\": \"Triceps Curls\",\n",
    "     \"subdirectory\": \"triceps_curls\",\n",
    "     \"label\": 2},\n",
    "    {\"name\": \"Russian Twists\",\n",
    "     \"subdirectory\": \"russian_twists\",\n",
    "     \"label\": 3},\n",
    "    {\"name\": \"Crunches\",\n",
    "     \"subdirectory\": \"crunches\",\n",
    "     \"label\": 4}]"
   ]
  },
  {
   "cell_type": "code",
   "execution_count": 3,
   "id": "02f20bb2-090d-4218-9afa-61d559e862fd",
   "metadata": {},
   "outputs": [],
   "source": [
    "T_frame = 4.0\n",
    "T_overlap = 3.0"
   ]
  },
  {
   "cell_type": "code",
   "execution_count": 4,
   "id": "a55327ff-f67a-486b-b5e5-4e561f331e59",
   "metadata": {},
   "outputs": [
    {
     "name": "stdout",
     "output_type": "stream",
     "text": [
      "Found 4 gyro-files in directory ../data/kNN/biceps_curls/clipped.\n",
      "Found 4 gyro-files in directory ../data/kNN/triceps_curls/clipped.\n",
      "Found 3 gyro-files in directory ../data/kNN/russian_twists/clipped.\n",
      "Found 4 gyro-files in directory ../data/kNN/crunches/clipped.\n"
     ]
    }
   ],
   "source": [
    "for activity in activities:\n",
    "    activity_subdirectory = activity[\"subdirectory\"]\n",
    "    \n",
    "     # The directory where the resulting timeframes are stored to\n",
    "    data_destination_directory = os.path.join(data_directory, activity_subdirectory, \"timeframes\")\n",
    "\n",
    "    # Join directory-path containing the clipped and resampled data-files for the current directory\n",
    "    data_source_directory = os.path.join(data_directory, activity_subdirectory, \"clipped\")\n",
    "    \n",
    "    utils.load_split_and_store_activity_timeframes(\n",
    "        data_source_directory, \n",
    "        data_destination_directory,\n",
    "        T_frame,\n",
    "        T_overlap)"
   ]
  },
  {
   "cell_type": "code",
   "execution_count": null,
   "id": "2e21bc33-3f75-45ac-8028-ce14a3360996",
   "metadata": {},
   "outputs": [],
   "source": []
  }
 ],
 "metadata": {
  "kernelspec": {
   "display_name": "Python 3",
   "language": "python",
   "name": "python3"
  },
  "language_info": {
   "codemirror_mode": {
    "name": "ipython",
    "version": 3
   },
   "file_extension": ".py",
   "mimetype": "text/x-python",
   "name": "python",
   "nbconvert_exporter": "python",
   "pygments_lexer": "ipython3",
   "version": "3.8.8"
  }
 },
 "nbformat": 4,
 "nbformat_minor": 5
}
