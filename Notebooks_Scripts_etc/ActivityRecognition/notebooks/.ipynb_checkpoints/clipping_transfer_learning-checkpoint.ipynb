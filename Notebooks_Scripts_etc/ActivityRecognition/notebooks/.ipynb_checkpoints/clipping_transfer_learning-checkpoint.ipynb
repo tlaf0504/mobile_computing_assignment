{
 "cells": [
  {
   "cell_type": "code",
   "execution_count": 1,
   "metadata": {},
   "outputs": [
    {
     "name": "stdout",
     "output_type": "stream",
     "text": [
      "Using matplotlib backend: Qt5Agg\n"
     ]
    }
   ],
   "source": [
    "import os\n",
    "import glob # Adds wildcard-support for file exploration\n",
    "import numpy as np\n",
    "import matplotlib.pyplot as plt\n",
    "\n",
    "%matplotlib\n",
    "\n",
    "# Load functions from file \"utils.py\"\n",
    "import utils"
   ]
  },
  {
   "cell_type": "code",
   "execution_count": 2,
   "metadata": {},
   "outputs": [],
   "source": [
    "activities = [\n",
    "    {\"name\": \"Walking\",\n",
    "     \"subdirectory\": \"walking\",\n",
    "     \"label\": 1},\n",
    "    {\"name\": \"Walking Upstairs\",\n",
    "     \"subdirectory\": \"walking_upstairs\",\n",
    "     \"label\": 2},\n",
    "    {\"name\": \"Walking Downstairs\",\n",
    "     \"subdirectory\": \"walking_downstairs\",\n",
    "     \"label\": 3},\n",
    "    {\"name\": \"Sitting\",\n",
    "     \"subdirectory\": \"sitting\",\n",
    "     \"label\": 4},\n",
    "    {\"name\": \"Standing\",\n",
    "     \"subdirectory\": \"standing\",\n",
    "     \"label\": 5},\n",
    "    {\"name\": \"Laying\",\n",
    "     \"subdirectory\": \"laying\",\n",
    "     \"label\": 6}]"
   ]
  },
  {
   "cell_type": "code",
   "execution_count": 3,
   "metadata": {},
   "outputs": [],
   "source": [
    "sampling_frequency=50.0"
   ]
  },
  {
   "cell_type": "markdown",
   "metadata": {},
   "source": [
    "### Load dataset"
   ]
  },
  {
   "cell_type": "code",
   "execution_count": 4,
   "metadata": {},
   "outputs": [
    {
     "name": "stdout",
     "output_type": "stream",
     "text": [
      "../data/transfer_learning/running_tf/raw/Running_gyro_sensor_data_1623908516432.txt\n",
      "../data/transfer_learning/running_tf/raw/Running_gyro_sensor_data_1623908575882.txt\n",
      "\n",
      "\n",
      "../data/transfer_learning/running_tf/raw/Running_accel_sensor_data_1623908516432.txt\n",
      "../data/transfer_learning/running_tf/raw/Running_accel_sensor_data_1623908575882.txt\n"
     ]
    }
   ],
   "source": [
    "# Please set the acticity-folder to load the data from\n",
    "activity_directory = \"running_tf\"\n",
    "\n",
    "data_path = os.path.join(\"..\", \"data\", \"transfer_learning\", activity_directory, \"raw\")\n",
    "gyro_data_files = glob.glob(os.path.join(data_path,\"*_gyro_sensor_data_*.txt\"))\n",
    "accel_data_files = glob.glob(os.path.join(data_path,\"*_accel_sensor_data_*.txt\"))\n",
    "\n",
    "clipped_data_destination_path = os.path.join(\"..\", \"data\", \"transfer_learning\", activity_directory, \"clipped\")\n",
    "\n",
    "print(*gyro_data_files, sep=\"\\n\")\n",
    "print(\"\\n\")\n",
    "print(*accel_data_files, sep=\"\\n\")"
   ]
  },
  {
   "cell_type": "code",
   "execution_count": 5,
   "metadata": {},
   "outputs": [],
   "source": [
    "file_idx = 1\n",
    "\n",
    "\n",
    "T_clip_backoff = 5 * 1e9 # Time in ns!\n",
    "save = True\n",
    "\n",
    "gyro_data_file = gyro_data_files[file_idx]\n",
    "accel_data_file = gyro_data_file.replace(\"gyro\", \"accel\")\n",
    "gyro_data = np.loadtxt(gyro_data_file, delimiter=\";\")\n",
    "accel_data = np.loadtxt(accel_data_file, delimiter=\";\")"
   ]
  },
  {
   "cell_type": "code",
   "execution_count": 6,
   "metadata": {},
   "outputs": [
    {
     "data": {
      "text/plain": [
       "'../data/transfer_learning/running_tf/raw/Running_gyro_sensor_data_1623908575882.txt'"
      ]
     },
     "execution_count": 6,
     "metadata": {},
     "output_type": "execute_result"
    }
   ],
   "source": [
    "gyro_data_file"
   ]
  },
  {
   "cell_type": "code",
   "execution_count": 7,
   "metadata": {},
   "outputs": [
    {
     "data": {
      "text/plain": [
       "'../data/transfer_learning/running_tf/raw/Running_accel_sensor_data_1623908575882.txt'"
      ]
     },
     "execution_count": 7,
     "metadata": {},
     "output_type": "execute_result"
    }
   ],
   "source": [
    "accel_data_file"
   ]
  },
  {
   "cell_type": "markdown",
   "metadata": {},
   "source": [
    "### Clip"
   ]
  },
  {
   "cell_type": "code",
   "execution_count": 8,
   "metadata": {},
   "outputs": [],
   "source": [
    "gyro_original_clip_start, gyro_original_clip_end, t_gyro_original_clipped, signals_gyro_original_clipped = \\\n",
    "    utils.clip_data_backoff(gyro_data[:,0], gyro_data[:,1:], T_clip_backoff)"
   ]
  },
  {
   "cell_type": "code",
   "execution_count": 9,
   "metadata": {},
   "outputs": [],
   "source": [
    "accel_original_clip_start, accel_original_clip_end, t_accel_original_clipped, signals_accel_original_clipped = \\\n",
    "    utils.clip_data_backoff(accel_data[:,0], accel_data[:,1:], T_clip_backoff)"
   ]
  },
  {
   "cell_type": "markdown",
   "metadata": {},
   "source": [
    "### Interpolate and resample\n",
    "The data from the sensors is not captured at a uniform sampling rate. Using linear interpolation, a sampling-rate of $50\\ \\text{Hz}$ is applied."
   ]
  },
  {
   "cell_type": "code",
   "execution_count": 10,
   "metadata": {},
   "outputs": [],
   "source": [
    "# Align the resampling\n",
    "if t_gyro_original_clipped[0] > t_accel_original_clipped[0]:\n",
    "    T_min = t_gyro_original_clipped[0]\n",
    "else:\n",
    "    T_min = t_accel_original_clipped[0]\n",
    "    \n",
    "if t_gyro_original_clipped[-1] > t_accel_original_clipped[-1]:\n",
    "    T_max = t_accel_original_clipped[-1]\n",
    "else:\n",
    "    T_max = t_gyro_original_clipped[-1]\n",
    "    \n",
    "\n",
    "\n",
    "t_gyro_new, gyro_data_new = utils.resample_3d_timeseries(t=t_gyro_original_clipped, y=signals_gyro_original_clipped, f_resample=sampling_frequency, t_ref = T_min)\n",
    "t_accel_new , accel_data_new = utils.resample_3d_timeseries(t=t_accel_original_clipped, y=signals_accel_original_clipped, f_resample=sampling_frequency, t_ref = T_min)"
   ]
  },
  {
   "cell_type": "markdown",
   "metadata": {},
   "source": [
    "## Plot & Save Gyro Data"
   ]
  },
  {
   "cell_type": "code",
   "execution_count": 11,
   "metadata": {},
   "outputs": [
    {
     "name": "stdout",
     "output_type": "stream",
     "text": [
      "../data/transfer_learning/running_tf/clipped/Running_gyro_sensor_data_1623908575882_resampled_clipped.npy\n",
      "../data/transfer_learning/running_tf/clipped/Running_gyro_sensor_data_1623908575882_original_clipped.npy\n",
      "../data/transfer_learning/running_tf/clipped/Running_gyro_sensor_data_1623908575882_resampled_clipped.csv\n",
      "../data/transfer_learning/running_tf/clipped/Running_gyro_sensor_data_1623908575882_original_clipped.csv\n"
     ]
    }
   ],
   "source": [
    "if save:\n",
    "    data_file_basename = os.path.basename(gyro_data_file)[:-4]\n",
    "    resampled_clipped_data_filename = os.path.join(clipped_data_destination_path, data_file_basename + \"_resampled_clipped.npy\")\n",
    "    original_clipped_data_filename = os.path.join(clipped_data_destination_path, data_file_basename + \"_original_clipped.npy\")\n",
    "    \n",
    "    resampled_clipped_filename_csv = resampled_clipped_data_filename[:-4] + \".csv\"\n",
    "    original_clipped_filename_csv = original_clipped_data_filename[:-4] + \".csv\"\n",
    "    \n",
    "    print(resampled_clipped_data_filename)\n",
    "    print(original_clipped_data_filename)\n",
    "    print(resampled_clipped_filename_csv)\n",
    "    print(original_clipped_filename_csv)\n",
    "    \n",
    "    data_original = np.column_stack((t_gyro_original_clipped, signals_gyro_original_clipped))\n",
    "    data_resampled = np.column_stack((t_gyro_new, gyro_data_new))\n",
    "    \n",
    "    np.save(original_clipped_data_filename, data_original, allow_pickle=True)\n",
    "    np.save(resampled_clipped_data_filename, data_resampled, allow_pickle=True)\n",
    "    np.savetxt(original_clipped_filename_csv, data_original, delimiter=\";\", fmt=\"%d;%e;%e;%e\")\n",
    "    np.savetxt(resampled_clipped_filename_csv, data_resampled, delimiter=\";\", fmt=\"%d;%e;%e;%e\")"
   ]
  },
  {
   "cell_type": "markdown",
   "metadata": {},
   "source": [
    "## Plot & Save Accelerometer Data"
   ]
  },
  {
   "cell_type": "code",
   "execution_count": 12,
   "metadata": {},
   "outputs": [
    {
     "name": "stdout",
     "output_type": "stream",
     "text": [
      "../data/transfer_learning/running_tf/clipped/Running_accel_sensor_data_1623908575882_resampled_clipped.npy\n",
      "../data/transfer_learning/running_tf/clipped/Running_accel_sensor_data_1623908575882_original_clipped.npy\n",
      "../data/transfer_learning/running_tf/clipped/Running_accel_sensor_data_1623908575882_resampled_clipped.csv\n",
      "../data/transfer_learning/running_tf/clipped/Running_accel_sensor_data_1623908575882_original_clipped.csv\n"
     ]
    }
   ],
   "source": [
    "if save:\n",
    "    data_file_basename = os.path.basename(accel_data_file)[:-4]\n",
    "    resampled_clipped_data_filename = os.path.join(clipped_data_destination_path, data_file_basename + \"_resampled_clipped.npy\")\n",
    "    original_clipped_data_filename = os.path.join(clipped_data_destination_path, data_file_basename + \"_original_clipped.npy\")\n",
    "    \n",
    "    resampled_clipped_filename_csv = resampled_clipped_data_filename[:-4] + \".csv\"\n",
    "    original_clipped_filename_csv = original_clipped_data_filename[:-4] + \".csv\"\n",
    "    \n",
    "    print(resampled_clipped_data_filename)\n",
    "    print(original_clipped_data_filename)\n",
    "    print(resampled_clipped_filename_csv)\n",
    "    print(original_clipped_filename_csv)\n",
    "    \n",
    "    data_original = np.column_stack((t_accel_original_clipped, signals_accel_original_clipped))\n",
    "    data_resampled = np.column_stack((t_accel_new, accel_data_new))\n",
    "    \n",
    "    np.save(original_clipped_data_filename, data_original, allow_pickle=True)\n",
    "    np.save(resampled_clipped_data_filename, data_resampled, allow_pickle=True)\n",
    "    np.savetxt(original_clipped_filename_csv, data_original, delimiter=\";\", fmt=\"%d;%e;%e;%e\")\n",
    "    np.savetxt(resampled_clipped_filename_csv, data_resampled, delimiter=\";\", fmt=\"%d;%e;%e;%e\")"
   ]
  },
  {
   "cell_type": "code",
   "execution_count": 13,
   "metadata": {},
   "outputs": [
    {
     "data": {
      "text/plain": [
       "<matplotlib.legend.Legend at 0x7f9b945a1af0>"
      ]
     },
     "execution_count": 13,
     "metadata": {},
     "output_type": "execute_result"
    }
   ],
   "source": [
    "plt.figure(figsize=(16,9))\n",
    "plt.subplot(311)\n",
    "plt.plot(accel_data[:,0], accel_data[:,1], label=\"Original\")\n",
    "plt.plot(t_accel_original_clipped, signals_accel_original_clipped[:,0], label=\"Original, clipped\")\n",
    "plt.plot(t_accel_new, accel_data_new[:,0], label=\"Resampled & Clipped\", linestyle=\"--\")\n",
    "val_min = np.min(accel_data_new[:,0])\n",
    "val_max = np.max(accel_data_new[:,0])\n",
    "plt.vlines(T_min, val_min, val_max, color=\"red\")\n",
    "plt.vlines(T_max, val_min, val_max, color=\"red\")\n",
    "plt.grid(which=\"major\")\n",
    "plt.grid(which=\"minor\", linestyle=\"--\")\n",
    "plt.minorticks_on()\n",
    "plt.legend()\n",
    "plt.title(\"Accelerometer\")\n",
    "\n",
    "plt.subplot(312)\n",
    "plt.plot(accel_data[:,0], accel_data[:,2], label=\"Original\")\n",
    "plt.plot(t_accel_original_clipped, signals_accel_original_clipped[:,1], label=\"Original, clipped\")\n",
    "plt.plot(t_accel_new, accel_data_new[:,1], label=\"Resampled & Clipped\", linestyle=\"--\")\n",
    "val_min = np.min(accel_data_new[:,1])\n",
    "val_max = np.max(accel_data_new[:,1])\n",
    "plt.vlines(T_min, val_min, val_max, color=\"red\")\n",
    "plt.vlines(T_max, val_min, val_max, color=\"red\")\n",
    "plt.grid(which=\"major\")\n",
    "plt.grid(which=\"minor\", linestyle=\"--\")\n",
    "plt.minorticks_on()\n",
    "plt.legend()\n",
    "\n",
    "plt.subplot(313)\n",
    "plt.plot(accel_data[:,0], accel_data[:,3], label=\"Original\")\n",
    "plt.plot(t_accel_original_clipped, signals_accel_original_clipped[:,2], label=\"Original, clipped\")\n",
    "plt.plot(t_accel_new, accel_data_new[:,2], label=\"Resampled & Clipped\", linestyle=\"--\")\n",
    "val_min = np.min(accel_data_new[:,2])\n",
    "val_max = np.max(accel_data_new[:,2])\n",
    "plt.vlines(T_min, val_min, val_max, color=\"red\")\n",
    "plt.vlines(T_max, val_min, val_max, color=\"red\")\n",
    "plt.grid(which=\"major\")\n",
    "plt.grid(which=\"minor\", linestyle=\"--\")\n",
    "plt.minorticks_on()\n",
    "plt.legend()"
   ]
  },
  {
   "cell_type": "code",
   "execution_count": 14,
   "metadata": {},
   "outputs": [
    {
     "data": {
      "text/plain": [
       "<matplotlib.legend.Legend at 0x7f9b94485f70>"
      ]
     },
     "execution_count": 14,
     "metadata": {},
     "output_type": "execute_result"
    }
   ],
   "source": [
    "plt.figure(figsize=(16,9))\n",
    "plt.subplot(311)\n",
    "plt.plot(gyro_data[:,0], gyro_data[:,1], label=\"Original\")\n",
    "plt.plot(t_gyro_original_clipped, signals_gyro_original_clipped[:,0], label=\"Original, clipped\")\n",
    "plt.plot(t_gyro_new, gyro_data_new[:,0], label=\"Resampled & Clipped\", linestyle=\"--\")\n",
    "val_min = np.min(gyro_data_new[:,0])\n",
    "val_max = np.max(gyro_data_new[:,0])\n",
    "plt.vlines(T_min, val_min, val_max, color=\"red\")\n",
    "plt.vlines(T_max, val_min, val_max, color=\"red\")\n",
    "plt.grid(which=\"major\")\n",
    "plt.grid(which=\"minor\", linestyle=\"--\")\n",
    "plt.minorticks_on()\n",
    "plt.legend()\n",
    "plt.title(\"Gyroscope\")\n",
    "\n",
    "plt.subplot(312)\n",
    "plt.plot(gyro_data[:,0], gyro_data[:,2], label=\"Original\")\n",
    "plt.plot(t_gyro_original_clipped, signals_gyro_original_clipped[:,1], label=\"Original, clipped\")\n",
    "plt.plot(t_gyro_new, gyro_data_new[:,1], label=\"Resampled & Clipped\", linestyle=\"--\")\n",
    "val_min = np.min(gyro_data_new[:,1])\n",
    "val_max = np.max(gyro_data_new[:,1])\n",
    "plt.vlines(T_min, val_min, val_max, color=\"red\")\n",
    "plt.vlines(T_max, val_min, val_max, color=\"red\")\n",
    "plt.grid(which=\"major\")\n",
    "plt.grid(which=\"minor\", linestyle=\"--\")\n",
    "plt.minorticks_on()\n",
    "plt.legend()\n",
    "\n",
    "plt.subplot(313)\n",
    "plt.plot(gyro_data[:,0], gyro_data[:,3], label=\"Original\")\n",
    "plt.plot(t_gyro_original_clipped, signals_gyro_original_clipped[:,2], label=\"Original, clipped\")\n",
    "plt.plot(t_gyro_new, gyro_data_new[:,2], label=\"Resampled & Clipped\", linestyle=\"--\")\n",
    "val_min = np.min(gyro_data_new[:,2])\n",
    "val_max = np.max(gyro_data_new[:,2])\n",
    "plt.vlines(T_min, val_min, val_max, color=\"red\")\n",
    "plt.vlines(T_max, val_min, val_max, color=\"red\")\n",
    "plt.grid(which=\"major\")\n",
    "plt.grid(which=\"minor\", linestyle=\"--\")\n",
    "plt.minorticks_on()\n",
    "plt.legend()"
   ]
  },
  {
   "cell_type": "code",
   "execution_count": 15,
   "metadata": {},
   "outputs": [
    {
     "data": {
      "text/plain": [
       "-1.8883657786118295"
      ]
     },
     "execution_count": 15,
     "metadata": {},
     "output_type": "execute_result"
    }
   ],
   "source": [
    "accel_data_new[100,2]"
   ]
  },
  {
   "cell_type": "code",
   "execution_count": 16,
   "metadata": {},
   "outputs": [
    {
     "data": {
      "text/plain": [
       "738225488772230.0"
      ]
     },
     "execution_count": 16,
     "metadata": {},
     "output_type": "execute_result"
    }
   ],
   "source": [
    "T_min"
   ]
  },
  {
   "cell_type": "code",
   "execution_count": null,
   "metadata": {},
   "outputs": [],
   "source": []
  }
 ],
 "metadata": {
  "kernelspec": {
   "display_name": "Python 3",
   "language": "python",
   "name": "python3"
  },
  "language_info": {
   "codemirror_mode": {
    "name": "ipython",
    "version": 3
   },
   "file_extension": ".py",
   "mimetype": "text/x-python",
   "name": "python",
   "nbconvert_exporter": "python",
   "pygments_lexer": "ipython3",
   "version": "3.8.8"
  }
 },
 "nbformat": 4,
 "nbformat_minor": 4
}
