{
 "cells": [
  {
   "cell_type": "code",
   "execution_count": 1,
   "id": "0f05f660-f3b7-4191-a192-bfbe1fe4eb60",
   "metadata": {},
   "outputs": [
    {
     "name": "stdout",
     "output_type": "stream",
     "text": [
      "Using matplotlib backend: Qt5Agg\n"
     ]
    }
   ],
   "source": [
    "import os\n",
    "import numpy as np\n",
    "import utils\n",
    "%matplotlib\n",
    "import matplotlib.pyplot as plt"
   ]
  },
  {
   "cell_type": "code",
   "execution_count": 2,
   "id": "a09a903d-7413-484a-ba13-9bf032a4d625",
   "metadata": {},
   "outputs": [],
   "source": [
    "data_path = os.path.join(\"..\", \"..\", \"..\", \"AndroidApp\",\"app\",\"src\",\"main\",\"assets\",\"raw_sensor_data\", \"curls\")\n",
    "gyro_file = \"Curls_gyro_sensor_data_1624264514006_original_clipped.csv\"\n",
    "accel_file = \"Curls_accel_sensor_data_1624264514006_original_clipped.csv\""
   ]
  },
  {
   "cell_type": "code",
   "execution_count": 3,
   "id": "f1b53d50-409b-4eb3-8670-198af9de2ad2",
   "metadata": {},
   "outputs": [],
   "source": [
    "gyro_data = np.loadtxt(os.path.join(data_path, gyro_file), delimiter=\";\")\n",
    "accel_data = np.loadtxt(os.path.join(data_path, accel_file), delimiter=\";\")"
   ]
  },
  {
   "cell_type": "code",
   "execution_count": 4,
   "id": "a617db96-a4a9-43dc-a755-018b1abc296c",
   "metadata": {},
   "outputs": [],
   "source": [
    "t_gyro = gyro_data[:,0] # In nanoseconds\n",
    "t_accel = accel_data[:,0]"
   ]
  },
  {
   "cell_type": "code",
   "execution_count": 5,
   "id": "d172786e-3b68-4571-a2d5-0d413e62ca8a",
   "metadata": {},
   "outputs": [
    {
     "data": {
      "text/plain": [
       "525743464659967.0"
      ]
     },
     "execution_count": 5,
     "metadata": {},
     "output_type": "execute_result"
    }
   ],
   "source": [
    "T_clip = -1\n",
    "if (t_gyro[-1] > t_accel[-1]):\n",
    "    T_clip = t_accel[-1]\n",
    "else:\n",
    "    T_clip = t_gyro[-1]\n",
    "T_clip"
   ]
  },
  {
   "cell_type": "code",
   "execution_count": 6,
   "id": "6da9706a-bfc9-43fb-a0d2-55eb1e6953f1",
   "metadata": {},
   "outputs": [],
   "source": [
    "T_clip_interval = 4 * 1e9\n",
    "idx_gyro_clip = np.where(t_gyro < (T_clip - T_clip_interval))[0][-1]\n",
    "idx_accel_clip = np.where(t_accel < (T_clip - T_clip_interval))[0][-1]"
   ]
  },
  {
   "cell_type": "code",
   "execution_count": 7,
   "id": "85a9e8af-3252-463b-8e3a-c3b2194b4462",
   "metadata": {},
   "outputs": [],
   "source": [
    "t_gyro_new = t_gyro[idx_gyro_clip:]\n",
    "t_accel_new = t_accel[idx_accel_clip:]"
   ]
  },
  {
   "cell_type": "code",
   "execution_count": 8,
   "id": "f116ecc3-d0f1-4156-9c89-65328696c407",
   "metadata": {},
   "outputs": [],
   "source": [
    "gyro_data_new = gyro_data[idx_gyro_clip:,:]\n",
    "accel_data_new = accel_data[idx_accel_clip:,:] "
   ]
  },
  {
   "cell_type": "code",
   "execution_count": 9,
   "id": "12770a0f-4d8e-4277-b045-ec68273303fe",
   "metadata": {},
   "outputs": [],
   "source": [
    "if gyro_data_new[0,0] > accel_data_new[0,0]:\n",
    "    t_ref = gyro_data_new[0,0]\n",
    "else:\n",
    "    t_ref = accel_data_new[0,0]"
   ]
  },
  {
   "cell_type": "code",
   "execution_count": 10,
   "id": "742f35c2-53fe-4763-ba16-1742066c0de2",
   "metadata": {},
   "outputs": [
    {
     "data": {
      "text/plain": [
       "525739449449207.0"
      ]
     },
     "execution_count": 10,
     "metadata": {},
     "output_type": "execute_result"
    }
   ],
   "source": [
    "t_ref"
   ]
  },
  {
   "cell_type": "code",
   "execution_count": 11,
   "id": "0bccc5f1-150c-4ec7-84fa-802b409105db",
   "metadata": {},
   "outputs": [],
   "source": [
    "t_gyro_resampled, gyro_data_resampled = utils.resample_3d_timeseries(gyro_data_new[:,1:], gyro_data_new[:,0], 50 , N_samples = 200, t_ref = t_ref)\n",
    "t_accel_resampled, accel_data_resampled = utils.resample_3d_timeseries(accel_data_new[:,1:], accel_data_new[:,0], 50 , N_samples = 200, t_ref = t_ref)"
   ]
  },
  {
   "cell_type": "code",
   "execution_count": 12,
   "id": "6e7e521c-72be-41c4-8f25-b3baed9e6a35",
   "metadata": {},
   "outputs": [
    {
     "data": {
      "text/plain": [
       "array([525739.44944921, 525739.46944921, 525739.48944921, 525739.50944921,\n",
       "       525739.52944921, 525739.54944921, 525739.56944921, 525739.58944921,\n",
       "       525739.60944921, 525739.62944921])"
      ]
     },
     "execution_count": 12,
     "metadata": {},
     "output_type": "execute_result"
    }
   ],
   "source": [
    "t_gyro_resampled[:10] * 1e-9"
   ]
  },
  {
   "cell_type": "code",
   "execution_count": 13,
   "id": "15baa512-c873-4355-bffa-4bd45926e52e",
   "metadata": {},
   "outputs": [
    {
     "data": {
      "text/plain": [
       "array([525741.64175624, 525741.84441405, 525742.04673275, 525742.24939082,\n",
       "       525742.45166842, 525742.65389535, 525742.85664535, 525743.05943794,\n",
       "       525743.26231309])"
      ]
     },
     "execution_count": 13,
     "metadata": {},
     "output_type": "execute_result"
    }
   ],
   "source": [
    "gyro_data[-10:-1,0] * 1e-9"
   ]
  },
  {
   "cell_type": "code",
   "execution_count": 14,
   "id": "c294807f-00a5-4910-bde8-19353f1f6400",
   "metadata": {},
   "outputs": [
    {
     "data": {
      "text/plain": [
       "<matplotlib.legend.Legend at 0x7effa8511580>"
      ]
     },
     "execution_count": 14,
     "metadata": {},
     "output_type": "execute_result"
    }
   ],
   "source": [
    "plt.figure(figsize=(16,9))\n",
    "plt.subplot(311)\n",
    "plt.plot(gyro_data[:,0] * 1e-9, gyro_data[:,1], label=\"Original\")\n",
    "plt.plot(gyro_data_new[:,0] * 1e-9, gyro_data_new[:,1], label=\"Original, clipped\")\n",
    "plt.plot(t_gyro_resampled * 1e-9 , gyro_data_resampled[:,0], label=\"Resampled, clipped\", linestyle=\"--\")\n",
    "plt.grid(which=\"major\")\n",
    "plt.grid(which=\"minor\", linestyle=\"--\")\n",
    "plt.minorticks_on()\n",
    "plt.legend()\n",
    "plt.title(\"Gyroscope\")\n",
    "\n",
    "plt.subplot(312)\n",
    "plt.plot(gyro_data[:,0] * 1e-9, gyro_data[:,2], label=\"Original\")\n",
    "plt.plot(gyro_data_new[:,0] * 1e-9, gyro_data_new[:,2], label=\"Original, clipped\")\n",
    "plt.plot(t_gyro_resampled * 1e-9 , gyro_data_resampled[:,1], label=\"Resampled, clipped\", linestyle=\"--\")\n",
    "plt.grid(which=\"major\")\n",
    "plt.grid(which=\"minor\", linestyle=\"--\")\n",
    "plt.minorticks_on()\n",
    "plt.legend()\n",
    "\n",
    "plt.subplot(313)\n",
    "plt.plot(gyro_data[:,0] * 1e-9, gyro_data[:,3], label=\"Original\")\n",
    "plt.plot(gyro_data_new[:,0] * 1e-9, gyro_data_new[:,3], label=\"Original, clipped\")\n",
    "plt.plot(t_gyro_resampled * 1e-9 , gyro_data_resampled[:,2], label=\"Resampled, clipped\", linestyle=\"--\")\n",
    "plt.grid(which=\"major\")\n",
    "plt.grid(which=\"minor\", linestyle=\"--\")\n",
    "plt.minorticks_on()\n",
    "plt.legend()\n",
    "\n",
    "plt.figure(figsize=(16,9))\n",
    "plt.subplot(311)\n",
    "plt.plot(accel_data[:,0] * 1e-9, accel_data[:,1], label=\"Original\")\n",
    "plt.plot(accel_data_new[:,0] * 1e-9, accel_data_new[:,1], label=\"Original, clipped\")\n",
    "plt.plot(t_accel_resampled * 1e-9, accel_data_resampled[:,0], label=\"Resampled, clipped\", linestyle=\"--\")\n",
    "plt.grid(which=\"major\")\n",
    "plt.grid(which=\"minor\", linestyle=\"--\")\n",
    "plt.minorticks_on()\n",
    "plt.legend()\n",
    "plt.title(\"Accelerometer\")\n",
    "\n",
    "plt.subplot(312)\n",
    "plt.plot(accel_data[:,0] * 1e-9, accel_data[:,2], label=\"Original\")\n",
    "plt.plot(accel_data_new[:,0] * 1e-9, accel_data_new[:,2], label=\"Original, clipped\")\n",
    "plt.plot(t_accel_resampled * 1e-9, accel_data_resampled[:,1], label=\"Resampled, clipped\", linestyle=\"--\")\n",
    "plt.grid(which=\"major\")\n",
    "plt.grid(which=\"minor\", linestyle=\"--\")\n",
    "plt.minorticks_on()\n",
    "plt.legend()\n",
    "\n",
    "plt.subplot(313)\n",
    "plt.plot(accel_data[:,0] * 1e-9, accel_data[:,3], label=\"Original\")\n",
    "plt.plot(accel_data_new[:,0] * 1e-9, accel_data_new[:,3], label=\"Original, clipped\")\n",
    "plt.plot(t_accel_resampled * 1e-9, accel_data_resampled[:,2], label=\"Resampled, clipped\", linestyle=\"--\")\n",
    "plt.grid(which=\"major\")\n",
    "plt.grid(which=\"minor\", linestyle=\"--\")\n",
    "plt.minorticks_on()\n",
    "plt.legend()"
   ]
  },
  {
   "cell_type": "code",
   "execution_count": 15,
   "id": "58b05dd6-bdae-41bd-860d-63f2307007cb",
   "metadata": {},
   "outputs": [
    {
     "data": {
      "text/plain": [
       "array([[-1.22943246, -0.87190523,  0.213196  ],\n",
       "       [-1.47305222, -0.77400077,  0.24114801],\n",
       "       [-1.71667198, -0.6760963 ,  0.26910001],\n",
       "       [-1.96029174, -0.57819183,  0.29705202],\n",
       "       [-2.2039115 , -0.48028737,  0.32500403],\n",
       "       [-2.44753126, -0.3823829 ,  0.35295604],\n",
       "       [-2.69115102, -0.28447843,  0.38090804],\n",
       "       [-2.93477077, -0.18657397,  0.40886005],\n",
       "       [-3.17839053, -0.0886695 ,  0.43681206],\n",
       "       [-2.96106811, -0.0127533 ,  0.40240745],\n",
       "       [-2.53969259,  0.05342899,  0.34039837],\n",
       "       [-2.11831706,  0.11961128,  0.2783893 ],\n",
       "       [-1.69694153,  0.18579357,  0.21638022],\n",
       "       [-1.27556601,  0.25197586,  0.15437115],\n",
       "       [-0.85419048,  0.31815816,  0.09236207],\n",
       "       [-0.43281496,  0.38434045,  0.030353  ],\n",
       "       [-0.01143943,  0.45052274, -0.03165607],\n",
       "       [ 0.4099361 ,  0.51670503, -0.09366515],\n",
       "       [ 0.83131162,  0.58288732, -0.15567422]])"
      ]
     },
     "execution_count": 15,
     "metadata": {},
     "output_type": "execute_result"
    }
   ],
   "source": [
    "gyro_data_resampled[:19, :]"
   ]
  }
 ],
 "metadata": {
  "kernelspec": {
   "display_name": "Python 3",
   "language": "python",
   "name": "python3"
  },
  "language_info": {
   "codemirror_mode": {
    "name": "ipython",
    "version": 3
   },
   "file_extension": ".py",
   "mimetype": "text/x-python",
   "name": "python",
   "nbconvert_exporter": "python",
   "pygments_lexer": "ipython3",
   "version": "3.8.8"
  }
 },
 "nbformat": 4,
 "nbformat_minor": 5
}
