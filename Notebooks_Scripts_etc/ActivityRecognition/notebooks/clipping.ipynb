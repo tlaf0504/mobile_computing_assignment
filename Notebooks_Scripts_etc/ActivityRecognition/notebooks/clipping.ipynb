{
 "cells": [
  {
   "cell_type": "code",
   "execution_count": 1,
   "metadata": {},
   "outputs": [
    {
     "name": "stdout",
     "output_type": "stream",
     "text": [
      "Using matplotlib backend: Qt5Agg\n"
     ]
    }
   ],
   "source": [
    "import os\n",
    "import glob # Adds wildcard-support for file exploration\n",
    "import numpy as np\n",
    "%matplotlib\n",
    "import matplotlib.pyplot as plt\n",
    "\n",
    "# Load functions from file \"utils.py\"\n",
    "import utils"
   ]
  },
  {
   "cell_type": "markdown",
   "metadata": {},
   "source": [
    "### Load bizeps dataset"
   ]
  },
  {
   "cell_type": "code",
   "execution_count": 2,
   "metadata": {},
   "outputs": [
    {
     "name": "stdout",
     "output_type": "stream",
     "text": [
      "../data/crunches/Crunches_gyro_sensor_data_1617807292329.txt\n",
      "../data/crunches/Crunches_gyro_sensor_data_1617807414485.txt\n",
      "../data/crunches/Crunches_gyro_sensor_data_1617807602040.txt\n",
      "../data/crunches/Crunches_gyro_sensor_data_1617807753937.txt\n",
      "\n",
      "\n",
      "../data/crunches/Crunches_accel_sensor_data_1617807292329.txt\n",
      "../data/crunches/Crunches_accel_sensor_data_1617807414485.txt\n",
      "../data/crunches/Crunches_accel_sensor_data_1617807602040.txt\n",
      "../data/crunches/Crunches_accel_sensor_data_1617807753937.txt\n"
     ]
    }
   ],
   "source": [
    "data_path = os.path.join(\"..\", \"data\", \"crunches\", \"raw\")\n",
    "gyro_data_files = glob.glob(os.path.join(data_path,\"*_gyro_sensor_data_*.txt\"))\n",
    "accel_data_files = glob.glob(os.path.join(data_path,\"*_accel_sensor_data_*.txt\"))\n",
    "\n",
    "print(*gyro_data_files, sep=\"\\n\")\n",
    "print(\"\\n\")\n",
    "print(*accel_data_files, sep=\"\\n\")"
   ]
  },
  {
   "cell_type": "code",
   "execution_count": 3,
   "metadata": {},
   "outputs": [],
   "source": [
    "file_idx = 0\n",
    "\n",
    "gyro_data_file = gyro_data_files[file_idx]\n",
    "accel_data_file = accel_data_files[file_idx]\n",
    "gyro_data = np.loadtxt(gyro_data_file, delimiter=\";\")\n",
    "accel_data = np.loadtxt(accel_data_file, delimiter=\";\")\n",
    "\n",
    "gyro_data[:,0] = gyro_data[:,0] * 1e-3 # Convert from milli-seconds to seconds\n",
    "accel_data[:,0] = accel_data[:,0] * 1e-3 # Convert from milli-seconds to seconds"
   ]
  },
  {
   "cell_type": "markdown",
   "metadata": {},
   "source": [
    "### Interpolate and resample\n",
    "The data from the sensors is not captured at a uniform sampling rate. Using linear interpolation, a sampling-rate of $100\\ \\text{Hz}$ is applied."
   ]
  },
  {
   "cell_type": "code",
   "execution_count": 4,
   "metadata": {},
   "outputs": [],
   "source": [
    "t_gyro_new, gyro_data_new = utils.resample_3d_timeseries(t=gyro_data[:,0], y=gyro_data[:,1:], f_resample=100.0)\n",
    "t_accel_new , accel_data_new = utils.resample_3d_timeseries(t=accel_data[:,0], y=accel_data[:,1:], f_resample=100.0)\n",
    "\n",
    "# Crop both data arrays to the same length.\n",
    "if t_gyro_new[-1] < t_accel_new[-1]:\n",
    "    T_max = t_gyro_new[-1]\n",
    "    idx = t_accel_new <= T_max\n",
    "    t_accel_new = t_accel_new[idx]\n",
    "    accel_data_new = accel_data_new[idx,:]\n",
    "else:\n",
    "    T_max = t_accel_new[-1]\n",
    "    idx = t_gyro_new <= T_max\n",
    "    t_gyro_new = t_gyro_new[idx]\n",
    "    gyro_data_new = gyro_data_new[idx,:]\n",
    "\n",
    "# Check both lengths are now really the same.\n",
    "assert len(t_gyro_new) == len(t_accel_new)"
   ]
  },
  {
   "cell_type": "code",
   "execution_count": 5,
   "metadata": {},
   "outputs": [],
   "source": [
    "T_clip_start = 6\n",
    "T_clip_end = 33"
   ]
  },
  {
   "cell_type": "markdown",
   "metadata": {},
   "source": [
    "### Clipping Gyro-data"
   ]
  },
  {
   "cell_type": "code",
   "execution_count": 6,
   "metadata": {},
   "outputs": [
    {
     "name": "stderr",
     "output_type": "stream",
     "text": [
      "No handles with labels found to put in legend.\n",
      "No handles with labels found to put in legend.\n",
      "No handles with labels found to put in legend.\n"
     ]
    }
   ],
   "source": [
    "fig_gyro = utils.plot_sensor_data(np.column_stack((t_gyro_new, gyro_data_new)), title=\"Gyro\", ylabels=(\"x\", \"y\", \"z\"))"
   ]
  },
  {
   "cell_type": "code",
   "execution_count": 7,
   "metadata": {},
   "outputs": [],
   "source": [
    "idx_clip_start = np.where(t_gyro_new >= T_clip_start)[0][0]\n",
    "idx_clip_end = np.where(t_gyro_new <= T_clip_end)[0][-1]"
   ]
  },
  {
   "cell_type": "code",
   "execution_count": 8,
   "metadata": {
    "tags": []
   },
   "outputs": [],
   "source": [
    "t_gyro_new_clip = t_gyro_new[idx_clip_start:idx_clip_end+1] - t_gyro_new[idx_clip_start]\n",
    "gyro_data_new_clip = gyro_data_new[idx_clip_start:idx_clip_end+1]"
   ]
  },
  {
   "cell_type": "code",
   "execution_count": 9,
   "metadata": {},
   "outputs": [
    {
     "data": {
      "text/plain": [
       "(2701, 4)"
      ]
     },
     "execution_count": 9,
     "metadata": {},
     "output_type": "execute_result"
    }
   ],
   "source": [
    "data_total = np.column_stack((t_gyro_new_clip, gyro_data_new_clip))\n",
    "data_total.shape"
   ]
  },
  {
   "cell_type": "code",
   "execution_count": 10,
   "metadata": {},
   "outputs": [
    {
     "name": "stderr",
     "output_type": "stream",
     "text": [
      "No handles with labels found to put in legend.\n",
      "No handles with labels found to put in legend.\n",
      "No handles with labels found to put in legend.\n"
     ]
    }
   ],
   "source": [
    "_ = utils.plot_sensor_data(np.column_stack((t_gyro_new_clip, gyro_data_new_clip)), title=\"Gyro clipped\", ylabels=(\"x\", \"y\", \"z\"), fig=fig_gyro)"
   ]
  },
  {
   "cell_type": "code",
   "execution_count": 11,
   "metadata": {},
   "outputs": [
    {
     "data": {
      "text/plain": [
       "'../data/crunches/Crunches_gyro_sensor_data_1617807292329_clipped.npy'"
      ]
     },
     "execution_count": 11,
     "metadata": {},
     "output_type": "execute_result"
    }
   ],
   "source": [
    "data_file_basename = os.path.basename(gyro_data_file)[:-4]\n",
    "clipped_data_filename = os.path.join(data_path, data_file_basename + \"_clipped.npy\")\n",
    "clipped_data_filename"
   ]
  },
  {
   "cell_type": "code",
   "execution_count": 12,
   "metadata": {},
   "outputs": [],
   "source": [
    "#np.save(clipped_data_filename, data_total, allow_pickle=True)"
   ]
  },
  {
   "cell_type": "markdown",
   "metadata": {},
   "source": [
    "### Clipping Accelerometer-data"
   ]
  },
  {
   "cell_type": "code",
   "execution_count": 13,
   "metadata": {
    "tags": []
   },
   "outputs": [
    {
     "name": "stderr",
     "output_type": "stream",
     "text": [
      "No handles with labels found to put in legend.\n",
      "No handles with labels found to put in legend.\n",
      "No handles with labels found to put in legend.\n"
     ]
    }
   ],
   "source": [
    "fig_accel = utils.plot_sensor_data(np.column_stack((t_accel_new, accel_data_new)), title=\"Accelerometer\", ylabels=(\"x\", \"y\", \"z\"))"
   ]
  },
  {
   "cell_type": "code",
   "execution_count": 14,
   "metadata": {},
   "outputs": [],
   "source": [
    "idx_clip_start = np.where(t_accel_new >= T_clip_start)[0][0]\n",
    "idx_clip_end = np.where(t_accel_new <= T_clip_end)[0][-1]"
   ]
  },
  {
   "cell_type": "code",
   "execution_count": 15,
   "metadata": {
    "tags": []
   },
   "outputs": [],
   "source": [
    "t_accel_new_clip = t_accel_new[idx_clip_start:idx_clip_end+1] - t_accel_new[idx_clip_start]\n",
    "accel_data_new_clip = accel_data_new[idx_clip_start:idx_clip_end+1]"
   ]
  },
  {
   "cell_type": "code",
   "execution_count": 16,
   "metadata": {},
   "outputs": [
    {
     "name": "stderr",
     "output_type": "stream",
     "text": [
      "No handles with labels found to put in legend.\n",
      "No handles with labels found to put in legend.\n",
      "No handles with labels found to put in legend.\n"
     ]
    }
   ],
   "source": [
    "data_total = np.column_stack((t_accel_new_clip, accel_data_new_clip))\n",
    "data_total.shape\n",
    "fig_accel = utils.plot_sensor_data(np.column_stack((t_accel_new_clip, accel_data_new_clip)), title=\"Accelerometer\", ylabels=(\"x\", \"y\", \"z\"), fig=fig_accel)"
   ]
  },
  {
   "cell_type": "code",
   "execution_count": 17,
   "metadata": {},
   "outputs": [
    {
     "data": {
      "text/plain": [
       "'../data/crunches/Crunches_accel_sensor_data_1617807292329_clipped.npy'"
      ]
     },
     "execution_count": 17,
     "metadata": {},
     "output_type": "execute_result"
    }
   ],
   "source": [
    "data_file_basename = os.path.basename(accel_data_file)[:-4]\n",
    "clipped_data_filename = os.path.join(data_path, data_file_basename + \"_clipped.npy\")\n",
    "clipped_data_filename"
   ]
  },
  {
   "cell_type": "code",
   "execution_count": 18,
   "metadata": {},
   "outputs": [],
   "source": [
    "#np.save(clipped_data_filename, data_total, allow_pickle=True)"
   ]
  }
 ],
 "metadata": {
  "kernelspec": {
   "display_name": "Python 3",
   "language": "python",
   "name": "python3"
  },
  "language_info": {
   "codemirror_mode": {
    "name": "ipython",
    "version": 3
   },
   "file_extension": ".py",
   "mimetype": "text/x-python",
   "name": "python",
   "nbconvert_exporter": "python",
   "pygments_lexer": "ipython3",
   "version": "3.8.8"
  }
 },
 "nbformat": 4,
 "nbformat_minor": 4
}
